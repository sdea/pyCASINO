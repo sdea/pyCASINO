{
 "cells": [
  {
   "cell_type": "code",
   "execution_count": 2,
   "metadata": {},
   "outputs": [],
   "source": [
    "import numpy as np \n",
    "from matplotlib import pyplot as plt\n",
    "from matplotlib.animation import FuncAnimation \n",
    "import matplotlib.animation as animation\n",
    "import sys \n",
    "\n",
    "# We need to solve this once and for all\n",
    "sys.path.append('/Users/sdea/Coding/pyCASINO/src')\n",
    "\n",
    "import functions"
   ]
  },
  {
   "cell_type": "code",
   "execution_count": 2,
   "metadata": {},
   "outputs": [],
   "source": [
    "# Parameters for silicon \n",
    "N_electrons = 100\n",
    "E = 30          # keV \n",
    "Z = 14          # Silicon \n",
    "A = 28.0855     # Atomic weight (g/mol) \n",
    "rho = 2.33      # Density (g/cm3)\n",
    "\n",
    "# Simulation parameters \n",
    "\n",
    "\n"
   ]
  },
  {
   "cell_type": "code",
   "execution_count": null,
   "metadata": {},
   "outputs": [],
   "source": []
  }
 ],
 "metadata": {
  "kernelspec": {
   "display_name": "Python 3",
   "language": "python",
   "name": "python3"
  },
  "language_info": {
   "codemirror_mode": {
    "name": "ipython",
    "version": 3
   },
   "file_extension": ".py",
   "mimetype": "text/x-python",
   "name": "python",
   "nbconvert_exporter": "python",
   "pygments_lexer": "ipython3",
   "version": "3.8.8"
  }
 },
 "nbformat": 4,
 "nbformat_minor": 2
}

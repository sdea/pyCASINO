{
 "cells": [
  {
   "cell_type": "code",
   "execution_count": 5,
   "metadata": {},
   "outputs": [],
   "source": [
    "import numpy as np \n",
    "from matplotlib import pyplot as plt\n",
    "from matplotlib.animation import FuncAnimation \n",
    "import matplotlib.animation as animation\n",
    "import sys \n",
    "\n",
    "# We need to solve this once and for all\n",
    "sys.path.append('/Users/sdea/Coding/pyCASINO/src')\n",
    "\n"
   ]
  },
  {
   "cell_type": "code",
   "execution_count": 3,
   "metadata": {},
   "outputs": [],
   "source": [
    "# Parameters for silicon \n",
    "N_electrons = 100\n",
    "E = 30          # keV \n",
    "Z = 14          # Silicon \n",
    "A = 28.0855     # Atomic weight (g/mol) \n",
    "rho = 2.33      # Density (g/cm3)\n",
    "\n"
   ]
  }
 ],
 "metadata": {
  "kernelspec": {
   "display_name": "base",
   "language": "python",
   "name": "python3"
  },
  "language_info": {
   "codemirror_mode": {
    "name": "ipython",
    "version": 3
   },
   "file_extension": ".py",
   "mimetype": "text/x-python",
   "name": "python",
   "nbconvert_exporter": "python",
   "pygments_lexer": "ipython3",
   "version": "3.8.8"
  },
  "orig_nbformat": 4
 },
 "nbformat": 4,
 "nbformat_minor": 2
}
